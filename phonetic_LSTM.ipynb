{
  "nbformat": 4,
  "nbformat_minor": 0,
  "metadata": {
    "colab": {
      "provenance": [],
      "machine_shape": "hm",
      "gpuType": "A100"
    },
    "kernelspec": {
      "name": "python3",
      "display_name": "Python 3"
    },
    "language_info": {
      "name": "python"
    },
    "accelerator": "GPU"
  },
  "cells": [
    {
      "cell_type": "code",
      "source": [
        "pip install g2p-en"
      ],
      "metadata": {
        "colab": {
          "base_uri": "https://localhost:8080/"
        },
        "id": "vQcPYZPrtet-",
        "outputId": "d1f89799-127a-4819-8b36-a89984ef2985"
      },
      "execution_count": null,
      "outputs": [
        {
          "output_type": "stream",
          "name": "stdout",
          "text": [
            "Requirement already satisfied: g2p-en in /usr/local/lib/python3.10/dist-packages (2.1.0)\n",
            "Requirement already satisfied: numpy>=1.13.1 in /usr/local/lib/python3.10/dist-packages (from g2p-en) (1.22.4)\n",
            "Requirement already satisfied: nltk>=3.2.4 in /usr/local/lib/python3.10/dist-packages (from g2p-en) (3.8.1)\n",
            "Requirement already satisfied: inflect>=0.3.1 in /usr/local/lib/python3.10/dist-packages (from g2p-en) (6.0.4)\n",
            "Requirement already satisfied: distance>=0.1.3 in /usr/local/lib/python3.10/dist-packages (from g2p-en) (0.1.3)\n",
            "Requirement already satisfied: pydantic>=1.9.1 in /usr/local/lib/python3.10/dist-packages (from inflect>=0.3.1->g2p-en) (1.10.9)\n",
            "Requirement already satisfied: click in /usr/local/lib/python3.10/dist-packages (from nltk>=3.2.4->g2p-en) (8.1.3)\n",
            "Requirement already satisfied: joblib in /usr/local/lib/python3.10/dist-packages (from nltk>=3.2.4->g2p-en) (1.2.0)\n",
            "Requirement already satisfied: regex>=2021.8.3 in /usr/local/lib/python3.10/dist-packages (from nltk>=3.2.4->g2p-en) (2022.10.31)\n",
            "Requirement already satisfied: tqdm in /usr/local/lib/python3.10/dist-packages (from nltk>=3.2.4->g2p-en) (4.65.0)\n",
            "Requirement already satisfied: typing-extensions>=4.2.0 in /usr/local/lib/python3.10/dist-packages (from pydantic>=1.9.1->inflect>=0.3.1->g2p-en) (4.6.3)\n"
          ]
        }
      ]
    },
    {
      "cell_type": "code",
      "execution_count": null,
      "metadata": {
        "id": "pYf710UMoTKp"
      },
      "outputs": [],
      "source": [
        "import torch\n",
        "import torch.nn as nn\n",
        "import numpy as np\n",
        "device = torch.device('cuda' if torch.cuda.is_available() else 'cpu')\n",
        "from g2p_en import G2p\n",
        "g2p = G2p()"
      ]
    },
    {
      "cell_type": "code",
      "source": [
        "import pandas as pd\n",
        "import ast\n",
        "\n",
        "unique_phenomes = set()\n",
        "df = pd.read_csv(\"data.csv\")\n",
        "\n",
        "for index, row in df.iterrows():\n",
        "  phonemes = ast.literal_eval(row[\"phoneme1\"])\n",
        "  for p in phonemes:\n",
        "    unique_phenomes.add(p)"
      ],
      "metadata": {
        "id": "qdpfaaScpcx1"
      },
      "execution_count": null,
      "outputs": []
    },
    {
      "cell_type": "code",
      "source": [
        "unique_phenomes = sorted(list(unique_phenomes))\n",
        "print(unique_phenomes)\n",
        "print(len(unique_phenomes))\n",
        "phoneme_to_index = {phoneme: index for index, phoneme in enumerate(unique_phenomes)}\n",
        "print(phoneme_to_index)"
      ],
      "metadata": {
        "id": "DVTTLMEnpdBa",
        "colab": {
          "base_uri": "https://localhost:8080/"
        },
        "outputId": "11dae77e-f2c6-4e2b-c1b7-ee98c110e1c3"
      },
      "execution_count": null,
      "outputs": [
        {
          "output_type": "stream",
          "name": "stdout",
          "text": [
            "['AA0', 'AA1', 'AA2', 'AE0', 'AE1', 'AE2', 'AH0', 'AH1', 'AH2', 'AO0', 'AO1', 'AO2', 'AW0', 'AW1', 'AW2', 'AY0', 'AY1', 'AY2', 'B', 'CH', 'D', 'DH', 'EH0', 'EH1', 'EH2', 'ER0', 'ER1', 'ER2', 'EY0', 'EY1', 'EY2', 'F', 'G', 'HH', 'IH0', 'IH1', 'IH2', 'IY0', 'IY1', 'IY2', 'JH', 'K', 'L', 'M', 'N', 'NG', 'OW0', 'OW1', 'OW2', 'OY0', 'OY1', 'OY2', 'P', 'R', 'S', 'SH', 'T', 'TH', 'UH0', 'UH1', 'UH2', 'UW0', 'UW1', 'UW2', 'V', 'W', 'Y', 'Z', 'ZH']\n",
            "69\n",
            "{'AA0': 0, 'AA1': 1, 'AA2': 2, 'AE0': 3, 'AE1': 4, 'AE2': 5, 'AH0': 6, 'AH1': 7, 'AH2': 8, 'AO0': 9, 'AO1': 10, 'AO2': 11, 'AW0': 12, 'AW1': 13, 'AW2': 14, 'AY0': 15, 'AY1': 16, 'AY2': 17, 'B': 18, 'CH': 19, 'D': 20, 'DH': 21, 'EH0': 22, 'EH1': 23, 'EH2': 24, 'ER0': 25, 'ER1': 26, 'ER2': 27, 'EY0': 28, 'EY1': 29, 'EY2': 30, 'F': 31, 'G': 32, 'HH': 33, 'IH0': 34, 'IH1': 35, 'IH2': 36, 'IY0': 37, 'IY1': 38, 'IY2': 39, 'JH': 40, 'K': 41, 'L': 42, 'M': 43, 'N': 44, 'NG': 45, 'OW0': 46, 'OW1': 47, 'OW2': 48, 'OY0': 49, 'OY1': 50, 'OY2': 51, 'P': 52, 'R': 53, 'S': 54, 'SH': 55, 'T': 56, 'TH': 57, 'UH0': 58, 'UH1': 59, 'UH2': 60, 'UW0': 61, 'UW1': 62, 'UW2': 63, 'V': 64, 'W': 65, 'Y': 66, 'Z': 67, 'ZH': 68}\n"
          ]
        }
      ]
    },
    {
      "cell_type": "code",
      "source": [
        "def one_hot_encode(word, conversion):\n",
        "  one_hot = []\n",
        "  for phoneme in word:\n",
        "    curr = np.zeros(69)\n",
        "    curr[conversion[phoneme]] = 1\n",
        "    one_hot.append(curr)\n",
        "  return np.array(one_hot)\n"
      ],
      "metadata": {
        "id": "NyuN4NEuvE7S"
      },
      "execution_count": null,
      "outputs": []
    },
    {
      "cell_type": "code",
      "source": [
        "df_encoded = pd.DataFrame(columns = ['Word1', 'Word2', 'Similarity'])\n",
        "one_hot_words = []\n",
        "for index, row in df.iterrows():\n",
        "  word1_encoded = one_hot_encode(ast.literal_eval(row[\"phoneme1\"]), phoneme_to_index)\n",
        "  word2_encoded = one_hot_encode(ast.literal_eval(row[\"phoneme2\"]), phoneme_to_index)\n",
        "  similarity = row[\"similar\"]\n",
        "  one_hot_words.append((word1_encoded, word2_encoded, similarity))\n"
      ],
      "metadata": {
        "id": "EPJ7MVd6yY00"
      },
      "execution_count": null,
      "outputs": []
    },
    {
      "cell_type": "code",
      "source": [
        "from sklearn.model_selection import train_test_split\n",
        "\n",
        "X = np.array([(pair[0], pair[1]) for pair in one_hot_words])\n",
        "y = np.array([pair[2] for pair in one_hot_words])"
      ],
      "metadata": {
        "id": "G0Yf8-HByx7P",
        "colab": {
          "base_uri": "https://localhost:8080/"
        },
        "outputId": "2b09a393-d239-454a-e965-aef8c4d85185"
      },
      "execution_count": null,
      "outputs": [
        {
          "output_type": "stream",
          "name": "stderr",
          "text": [
            "<ipython-input-68-066d0fd670b2>:3: VisibleDeprecationWarning: Creating an ndarray from ragged nested sequences (which is a list-or-tuple of lists-or-tuples-or ndarrays with different lengths or shapes) is deprecated. If you meant to do this, you must specify 'dtype=object' when creating the ndarray.\n",
            "  X = np.array([(pair[0], pair[1]) for pair in one_hot_words])\n"
          ]
        }
      ]
    },
    {
      "cell_type": "code",
      "source": [
        "X_train, X_test, y_train, y_test = train_test_split(X, y, test_size=0.2, random_state=42)\n",
        "\n",
        "X_train, X_val, y_train, y_val = train_test_split(X_train, y_train, test_size=0.25, random_state=42)\n",
        "\n",
        "class_counts = np.bincount(y_train)\n",
        "class_weights = 1. /class_counts\n",
        "class_weights /= class_weights.sum()\n",
        "class_weights = torch.FloatTensor(class_weights).to(device)\n",
        "print(class_weights)"
      ],
      "metadata": {
        "id": "_jN73xLk1XRT",
        "colab": {
          "base_uri": "https://localhost:8080/"
        },
        "outputId": "f7d8b9d1-f73c-4d9d-fd9d-bf0c56f7581e"
      },
      "execution_count": null,
      "outputs": [
        {
          "output_type": "stream",
          "name": "stdout",
          "text": [
            "tensor([0.0222, 0.9778], device='cuda:0')\n"
          ]
        }
      ]
    },
    {
      "cell_type": "code",
      "source": [
        "class LSTMModel(nn.Module):\n",
        "    def __init__(self, input_size, hidden_size, num_layers):\n",
        "        super(LSTMModel, self).__init__()\n",
        "        self.hidden_size = hidden_size\n",
        "        self.num_layers = num_layers\n",
        "        self.lstm = nn.LSTM(input_size, hidden_size, num_layers, batch_first=True)\n",
        "\n",
        "    def forward(self, x):\n",
        "        h0 = torch.zeros(self.num_layers, x.size(0), self.hidden_size).to(x.device)\n",
        "        c0 = torch.zeros(self.num_layers, x.size(0), self.hidden_size).to(x.device)\n",
        "\n",
        "        out, _ = self.lstm(x, (h0, c0))  # out: tensor of shape (batch_size, seq_length, hidden_size)\n",
        "\n",
        "        # Decode the hidden state of the last time step\n",
        "        out = out[:, -1, :]\n",
        "        return out"
      ],
      "metadata": {
        "id": "5InMjeaTUO8K"
      },
      "execution_count": null,
      "outputs": []
    },
    {
      "cell_type": "code",
      "source": [
        "class SiameseLSTM(nn.Module):\n",
        "    def __init__(self, input_size, hidden_size, num_layers):\n",
        "        super(SiameseLSTM, self).__init__()\n",
        "        self.lstm = LSTMModel(input_size, hidden_size, num_layers)\n",
        "        self.fc = nn.Linear(hidden_size, 2)\n",
        "\n",
        "    def forward(self, x1, x2):\n",
        "        out1 = self.lstm(x1)\n",
        "        out2 = self.lstm(x2)\n",
        "        out = torch.abs(out1 - out2)\n",
        "        out = self.fc(out)\n",
        "        return out"
      ],
      "metadata": {
        "id": "qyIrbdtvUTGf"
      },
      "execution_count": null,
      "outputs": []
    },
    {
      "cell_type": "code",
      "source": [
        "\n",
        "\n",
        "from torch.utils.data import Dataset, DataLoader\n",
        "\n",
        "class SiameseDataset(Dataset):\n",
        "    def __init__(self, word_pairs, labels):\n",
        "        self.word_pairs = word_pairs\n",
        "        self.labels = labels\n",
        "\n",
        "    def __len__(self):\n",
        "        return len(self.word_pairs)\n",
        "\n",
        "    def __getitem__(self, idx):\n",
        "        word_pair = self.word_pairs[idx]\n",
        "        word1 = torch.Tensor(word_pair[0])\n",
        "        word2 = torch.Tensor(word_pair[1])\n",
        "        label = torch.LongTensor([self.labels[idx]])\n",
        "        return word1, word2, label"
      ],
      "metadata": {
        "id": "6z_IcW_qU2WK"
      },
      "execution_count": null,
      "outputs": []
    },
    {
      "cell_type": "code",
      "source": [
        "from torch.nn.utils.rnn import pad_sequence\n",
        "\n",
        "batch_size = 128\n",
        "train_dataset = SiameseDataset(X_train, y_train)\n",
        "\n",
        "def collate_fn(batch):\n",
        "    word1s, word2s, labels = zip(*batch)\n",
        "    word1s_padded = pad_sequence(word1s, batch_first=True, padding_value=0)\n",
        "    word2s_padded = pad_sequence(word2s, batch_first=True, padding_value=0)\n",
        "    labels = torch.stack(labels)\n",
        "    return word1s_padded, word2s_padded, labels\n",
        "\n",
        "train_loader = DataLoader(train_dataset, batch_size=batch_size, shuffle=True, collate_fn=collate_fn)\n",
        "val_dataset = SiameseDataset(X_val, y_val)\n",
        "val_loader = DataLoader(val_dataset, batch_size=batch_size, shuffle=True, collate_fn=collate_fn)\n",
        "test_dataset = SiameseDataset(X_test, y_test)\n",
        "test_loader = DataLoader(test_dataset, batch_size=batch_size, shuffle=True, collate_fn=collate_fn)\n"
      ],
      "metadata": {
        "id": "Oy1eWGm6U4U1"
      },
      "execution_count": null,
      "outputs": []
    },
    {
      "cell_type": "code",
      "source": [
        "input_size = 69\n",
        "hidden_size = 150\n",
        "num_layers = 4\n",
        "\n",
        "model = SiameseLSTM(input_size, hidden_size, num_layers)\n",
        "\n",
        "criterion = nn.CrossEntropyLoss(weight=class_weights)\n",
        "optimizer = torch.optim.Adam(model.parameters(), lr=0.001)\n",
        "\n",
        "model = model.to(device)\n",
        "print(class_weights.shape, class_weights)\n"
      ],
      "metadata": {
        "id": "nNHDH1zTUceB",
        "colab": {
          "base_uri": "https://localhost:8080/"
        },
        "outputId": "168b8119-d209-4664-961f-44a5bf2cb853"
      },
      "execution_count": null,
      "outputs": [
        {
          "output_type": "stream",
          "name": "stdout",
          "text": [
            "torch.Size([2]) tensor([0.0222, 0.9778], device='cuda:0')\n"
          ]
        }
      ]
    },
    {
      "cell_type": "code",
      "source": [
        "from sklearn.metrics import precision_recall_fscore_support\n",
        "num_epochs = 30\n",
        "# Create lists to save the losses\n",
        "train_losses = []\n",
        "valid_losses = []\n",
        "validation_cutoff = np.inf\n",
        "save_model = model\n",
        "\n",
        "for epoch in range(num_epochs):\n",
        "    # Training\n",
        "    model.train()\n",
        "    train_loss = 0.0\n",
        "    for i, (word1, word2, labels) in enumerate(train_loader):\n",
        "        word1 = word1.to(device)\n",
        "        word2 = word2.to(device)\n",
        "        labels = labels.squeeze().to(device)\n",
        "        #print(\"labels\",labels.shape)\n",
        "\n",
        "        outputs = model(word1, word2)\n",
        "        #print(\"outputs\",outputs.shape)\n",
        "        loss = criterion(outputs, labels)\n",
        "\n",
        "        # Backward and optimize\n",
        "        optimizer.zero_grad()\n",
        "        loss.backward()\n",
        "        optimizer.step()\n",
        "\n",
        "        train_loss += loss.item() * word1.size(0)\n",
        "\n",
        "    train_loss = train_loss / len(train_loader.dataset)\n",
        "    train_losses.append(train_loss)\n",
        "\n",
        "    # Validation\n",
        "    model.eval()\n",
        "    all_labels = []\n",
        "    all_predictions = []\n",
        "    valid_loss = 0.0\n",
        "    with torch.no_grad():\n",
        "        for i, (word1, word2, labels) in enumerate(val_loader):\n",
        "            word1 = word1.to(device)\n",
        "            word2 = word2.to(device)\n",
        "            labels = labels.squeeze().to(device)\n",
        "\n",
        "            outputs = model(word1, word2)\n",
        "            _,predicted = torch.max(outputs.data, 1)\n",
        "\n",
        "            all_labels.extend(labels.cpu().numpy())\n",
        "            all_predictions.extend(predicted.cpu().numpy())\n",
        "\n",
        "            loss = criterion(outputs, labels)\n",
        "\n",
        "            valid_loss += loss.item() * word1.size(0)\n",
        "\n",
        "    valid_loss = valid_loss / len(val_loader.dataset)\n",
        "    valid_losses.append(valid_loss)\n",
        "    precision, recall, f1_score, _ = precision_recall_fscore_support(all_labels, all_predictions, average='binary')\n",
        "\n",
        "\n",
        "    print(f'Epoch {epoch+1}/{num_epochs}, '\n",
        "          f'Train Loss: {train_loss:.4f}, '\n",
        "          f'Valid Loss: {valid_loss:.4f}')\n",
        "    print(f'Precision: {precision:.2f}, Recall: {recall:.2f}, F1-score: {f1_score:.2f}')\n",
        "\n",
        "    if valid_loss < validation_cutoff:\n",
        "      save_model = model"
      ],
      "metadata": {
        "id": "jtxv3YB3Ukme",
        "colab": {
          "base_uri": "https://localhost:8080/"
        },
        "outputId": "2749083d-9a9c-4baf-9e2d-6d64a19f617c"
      },
      "execution_count": null,
      "outputs": [
        {
          "output_type": "stream",
          "name": "stdout",
          "text": [
            "Epoch 1/30, Train Loss: 0.5153, Valid Loss: 0.4320\n",
            "Precision: 0.10, Recall: 0.90, F1-score: 0.18\n",
            "Epoch 2/30, Train Loss: 0.3141, Valid Loss: 0.2685\n",
            "Precision: 0.18, Recall: 0.96, F1-score: 0.30\n",
            "Epoch 3/30, Train Loss: 0.2223, Valid Loss: 0.1915\n",
            "Precision: 0.20, Recall: 0.99, F1-score: 0.33\n",
            "Epoch 4/30, Train Loss: 0.1528, Valid Loss: 0.1204\n",
            "Precision: 0.38, Recall: 0.99, F1-score: 0.54\n",
            "Epoch 5/30, Train Loss: 0.1066, Valid Loss: 0.0903\n",
            "Precision: 0.46, Recall: 0.99, F1-score: 0.63\n",
            "Epoch 6/30, Train Loss: 0.0879, Valid Loss: 0.0995\n",
            "Precision: 0.44, Recall: 0.98, F1-score: 0.61\n",
            "Epoch 7/30, Train Loss: 0.0742, Valid Loss: 0.0586\n",
            "Precision: 0.58, Recall: 0.99, F1-score: 0.74\n",
            "Epoch 8/30, Train Loss: 0.0500, Valid Loss: 0.0554\n",
            "Precision: 0.68, Recall: 1.00, F1-score: 0.81\n",
            "Epoch 9/30, Train Loss: 0.0396, Valid Loss: 0.0636\n",
            "Precision: 0.52, Recall: 0.98, F1-score: 0.68\n",
            "Epoch 10/30, Train Loss: 0.0378, Valid Loss: 0.0467\n",
            "Precision: 0.72, Recall: 0.99, F1-score: 0.83\n",
            "Epoch 11/30, Train Loss: 0.0287, Valid Loss: 0.0498\n",
            "Precision: 0.55, Recall: 0.99, F1-score: 0.71\n",
            "Epoch 12/30, Train Loss: 0.0295, Valid Loss: 0.0440\n",
            "Precision: 0.82, Recall: 0.99, F1-score: 0.89\n",
            "Epoch 13/30, Train Loss: 0.0366, Valid Loss: 0.0524\n",
            "Precision: 0.68, Recall: 0.98, F1-score: 0.80\n",
            "Epoch 14/30, Train Loss: 0.0231, Valid Loss: 0.0474\n",
            "Precision: 0.72, Recall: 0.99, F1-score: 0.84\n",
            "Epoch 15/30, Train Loss: 0.0292, Valid Loss: 0.0616\n",
            "Precision: 0.83, Recall: 0.98, F1-score: 0.90\n",
            "Epoch 16/30, Train Loss: 0.0275, Valid Loss: 0.0398\n",
            "Precision: 0.77, Recall: 0.99, F1-score: 0.87\n",
            "Epoch 17/30, Train Loss: 0.0167, Valid Loss: 0.0370\n",
            "Precision: 0.74, Recall: 0.99, F1-score: 0.85\n",
            "Epoch 18/30, Train Loss: 0.0232, Valid Loss: 0.0466\n",
            "Precision: 0.83, Recall: 0.98, F1-score: 0.90\n",
            "Epoch 19/30, Train Loss: 0.0153, Valid Loss: 0.0308\n",
            "Precision: 0.71, Recall: 0.99, F1-score: 0.83\n",
            "Epoch 20/30, Train Loss: 0.0150, Valid Loss: 0.0391\n",
            "Precision: 0.74, Recall: 0.99, F1-score: 0.85\n",
            "Epoch 21/30, Train Loss: 0.0102, Valid Loss: 0.0414\n",
            "Precision: 0.92, Recall: 0.99, F1-score: 0.95\n",
            "Epoch 22/30, Train Loss: 0.0073, Valid Loss: 0.0404\n",
            "Precision: 0.87, Recall: 0.98, F1-score: 0.93\n",
            "Epoch 23/30, Train Loss: 0.0108, Valid Loss: 0.0800\n",
            "Precision: 0.81, Recall: 0.98, F1-score: 0.89\n",
            "Epoch 24/30, Train Loss: 0.0198, Valid Loss: 0.0586\n",
            "Precision: 0.93, Recall: 0.98, F1-score: 0.95\n",
            "Epoch 25/30, Train Loss: 0.0144, Valid Loss: 0.0517\n",
            "Precision: 0.43, Recall: 1.00, F1-score: 0.61\n",
            "Epoch 26/30, Train Loss: 0.0099, Valid Loss: 0.0578\n",
            "Precision: 0.92, Recall: 0.99, F1-score: 0.95\n",
            "Epoch 27/30, Train Loss: 0.0099, Valid Loss: 0.0432\n",
            "Precision: 0.76, Recall: 0.99, F1-score: 0.86\n",
            "Epoch 28/30, Train Loss: 0.0061, Valid Loss: 0.0774\n",
            "Precision: 0.94, Recall: 0.98, F1-score: 0.96\n",
            "Epoch 29/30, Train Loss: 0.0066, Valid Loss: 0.0721\n",
            "Precision: 0.91, Recall: 0.98, F1-score: 0.95\n",
            "Epoch 30/30, Train Loss: 0.0070, Valid Loss: 0.0577\n",
            "Precision: 0.87, Recall: 0.99, F1-score: 0.93\n"
          ]
        }
      ]
    },
    {
      "cell_type": "code",
      "source": [
        "model = save_model\n",
        "torch.save(model, 'checkpoint.pth')"
      ],
      "metadata": {
        "id": "f0s-X28lO4t_"
      },
      "execution_count": null,
      "outputs": []
    },
    {
      "cell_type": "code",
      "source": [
        "model = torch.load('checkpoint.pth')\n",
        "model.eval()"
      ],
      "metadata": {
        "colab": {
          "base_uri": "https://localhost:8080/"
        },
        "id": "Hw-3VvfmtRZW",
        "outputId": "4c5559e9-1bd0-439e-a2de-b0badb27100a"
      },
      "execution_count": null,
      "outputs": [
        {
          "output_type": "execute_result",
          "data": {
            "text/plain": [
              "SiameseLSTM(\n",
              "  (lstm): LSTMModel(\n",
              "    (lstm): LSTM(69, 150, num_layers=4, batch_first=True)\n",
              "  )\n",
              "  (fc): Linear(in_features=150, out_features=2, bias=True)\n",
              ")"
            ]
          },
          "metadata": {},
          "execution_count": 77
        }
      ]
    },
    {
      "cell_type": "code",
      "source": [
        "import matplotlib.pyplot as plt\n",
        "\n",
        "# Plot the losses\n",
        "plt.plot(train_losses, label='Training Loss')\n",
        "plt.plot(valid_losses, label='Validation Loss')\n",
        "plt.title('Losses over time')\n",
        "plt.xlabel('Epochs')\n",
        "plt.ylabel('Loss')\n",
        "plt.legend()\n",
        "plt.show()"
      ],
      "metadata": {
        "id": "YriW1Wc4bbcx",
        "colab": {
          "base_uri": "https://localhost:8080/",
          "height": 472
        },
        "outputId": "ccd84e33-ca0a-4337-d25a-c6ef43ea7799"
      },
      "execution_count": null,
      "outputs": [
        {
          "output_type": "display_data",
          "data": {
            "text/plain": [
              "<Figure size 640x480 with 1 Axes>"
            ],
            "image/png": "[encoded data removed]"
          },
          "metadata": {}
        }
      ]
    },
    {
      "cell_type": "code",
      "source": [
        "def evaluate(model, data_loader, device):\n",
        "    model.eval()\n",
        "    correct = 0\n",
        "    total = 0\n",
        "    with torch.no_grad():\n",
        "        for i, (word1, word2, labels) in enumerate(data_loader):\n",
        "            word1 = word1.to(device)\n",
        "            word2 = word2.to(device)\n",
        "            labels = labels.to(device)\n",
        "            #print(labels.reshape(1,labels.size(0)))\n",
        "            outputs = model(word1, word2)\n",
        "            _, predicted = torch.max(outputs.data, 1)\n",
        "            total += labels.size(0)\n",
        "            correct += (predicted == labels.squeeze()).sum().item()\n",
        "            # Debugging print statements:\n",
        "            #print(\"Labels:\", labels)\n",
        "            #print(\"Predicted:\", predicted)\n",
        "            #print(\"Total so far:\", total)\n",
        "            #print(\"Correct so far:\", correct)\n",
        "    return correct / total\n",
        "\n",
        "accuracy = evaluate(model, test_loader, device)\n",
        "print('Accuracy on test data:', accuracy)"
      ],
      "metadata": {
        "id": "IMc2zs2RUriB",
        "colab": {
          "base_uri": "https://localhost:8080/"
        },
        "outputId": "8cc79d7c-0c30-4a6d-971a-1b2ffbeb2fdf"
      },
      "execution_count": null,
      "outputs": [
        {
          "output_type": "stream",
          "name": "stdout",
          "text": [
            "Accuracy on test data: 0.9958832335329342\n"
          ]
        }
      ]
    },
    {
      "cell_type": "code",
      "source": [
        "def compare_words(model, word1, word2, real_word1, real_word2):\n",
        "    model.eval()\n",
        "    with torch.no_grad():\n",
        "        word1_encoded = torch.tensor([one_hot_encode(word1, phoneme_to_index)], dtype=torch.float32).to(device)\n",
        "        word2_encoded = torch.tensor([one_hot_encode(word2, phoneme_to_index)], dtype=torch.float32).to(device)\n",
        "        output = model(word1_encoded, word2_encoded)\n",
        "        _, predicted = torch.max(output.data, 1)\n",
        "        if predicted.item() == 1:\n",
        "            print(f\"'{real_word1}' and '{real_word2}' are phonetically similar.\")\n",
        "        else:\n",
        "            print(f\"'{real_word1}' and '{real_word2}' are not phonetically similar.\")"
      ],
      "metadata": {
        "id": "b2TqO6skY427"
      },
      "execution_count": null,
      "outputs": []
    },
    {
      "cell_type": "code",
      "source": [
        "\n",
        "word_1 = \"elastic\"\n",
        "word_2 = \"electric\"\n",
        "word1 = g2p(word_1)\n",
        "word2 = g2p(word_2)\n",
        "print(word1)\n",
        "print(word2)\n",
        "import time"
      ],
      "metadata": {
        "colab": {
          "base_uri": "https://localhost:8080/"
        },
        "id": "gyduDGjpZtPX",
        "outputId": "70ba2d77-3fca-42a8-a36a-2cd7fcc87fb7"
      },
      "execution_count": null,
      "outputs": [
        {
          "output_type": "stream",
          "name": "stdout",
          "text": [
            "['IH0', 'L', 'AE1', 'S', 'T', 'IH0', 'K']\n",
            "['IH0', 'L', 'EH1', 'K', 'T', 'R', 'IH0', 'K']\n"
          ]
        }
      ]
    },
    {
      "cell_type": "code",
      "source": [
        "start_time = time.time()\n",
        "compare_words(model, word1, word2,word_1,word_2)\n",
        "print(\"--- %s seconds ---\" % (time.time() - start_time))\n"
      ],
      "metadata": {
        "id": "vDfY4jnnY5sI",
        "colab": {
          "base_uri": "https://localhost:8080/"
        },
        "outputId": "ee1dc15a-04d1-4480-b214-d1a1b33e2c3f"
      },
      "execution_count": null,
      "outputs": [
        {
          "output_type": "stream",
          "name": "stdout",
          "text": [
            "'elastic' and 'electric' are phonetically similar.\n",
            "--- 0.004469871520996094 seconds ---\n"
          ]
        }
      ]
    },
    {
      "cell_type": "code",
      "source": [
        "words =[\"ability\", \"absence\", \"academy\", \"activity\", \"advantage\", \"adventure\", \"afternoon\", \"agreement\",\n",
        "\"alternative\", \"announcement\", \"apartment\", \"application\", \"architecture\", \"assignment\", \"assistance\",\n",
        "\"atmosphere\", \"attention\", \"awareness\", \"background\", \"basketball\", \"billionaire\", \"biography\",\n",
        "\"boundary\", \"breakfast\", \"brilliant\", \"broadcast\", \"brotherhood\", \"calculator\", \"celebration\",\n",
        "\"characteristic\", \"chemistry\", \"chocolate\", \"civilization\", \"collection\", \"communication\", \"comparison\",\n",
        "\"competition\", \"commuter\", \"compromise\", \"concentration\", \"conclusion\", \"confidence\", \"connection\",\n",
        "\"consequence\", \"consideration\", \"consultation\", \"contribution\", \"cooperation\", \"coordination\",\n",
        "\"corporation\", \"declaration\", \"definition\", \"democracy\", \"depression\", \"description\", \"determination\",\n",
        "\"development\", \"difference\", \"difficulty\", \"discussion\", \"distribution\", \"diversity\", \"education\",\n",
        "\"efficiency\", \"engineering\", \"environment\", \"evaluation\", \"examination\", \"expectation\", \"experience\",\n",
        "\"explanation\", \"expression\", \"fascination\", \"foundation\", \"friendship\", \"government\", \"graduation\",\n",
        "\"happiness\", \"heritage\", \"hospitality\", \"imagination\", \"impression\", \"improvement\", \"independence\",\n",
        "\"information\", \"inspiration\", \"instruction\", \"intelligence\", \"interpretation\", \"introduction\",\n",
        "\"investigation\", \"leadership\", \"literature\", \"mathematics\", \"measurement\", \"membership\", \"motivation\",\n",
        "\"negotiation\", \"observation\", \"opportunity\", \"organization\", \"participation\", \"performance\", \"philosophy\",\n",
        "\"photography\", \"possession\", \"preparation\", \"presentation\", \"preservation\", \"probability\", \"production\",\n",
        "\"progression\", \"projection\", \"promotion\", \"proposition\", \"psychology\", \"qualification\", \"realization\",\n",
        "\"recognition\", \"recommendation\", \"recreation\", \"reflection\", \"reformation\", \"relationship\", \"representation\",\n",
        "\"reputation\", \"reservation\", \"resistance\", \"resolution\", \"restaurant\", \"revelation\", \"revolution\",\n",
        "\"satisfaction\", \"scholarship\", \"significance\", \"specification\", \"speculation\", \"statistics\", \"stimulation\",\n",
        "\"strengthen\", \"structure\", \"submission\", \"substitution\", \"succession\", \"suggestion\", \"superintendent\",\n",
        "\"supervision\", \"technology\", \"temperature\", \"transportation\", \"understanding\", \"university\", \"visualization\"]\n",
        "word_list = [g2p(x) for x in words]\n",
        "from collections import defaultdict\n",
        "\n",
        "word_dict = defaultdict(list)\n",
        "for word in words:\n",
        "    word_dict[tuple(g2p(word))].append(word)\n",
        "print(word_dict)"
      ],
      "metadata": {
        "colab": {
          "base_uri": "https://localhost:8080/"
        },
        "id": "o9YzvyVU2DV3",
        "outputId": "418f3de1-cee0-4f89-aa3c-20719787b557"
      },
      "execution_count": null,
      "outputs": [
        {
          "output_type": "stream",
          "name": "stdout",
          "text": [
            "defaultdict(<class 'list'>, {('AH0', 'B', 'IH1', 'L', 'AH0', 'T', 'IY0'): ['ability'], ('AE1', 'B', 'S', 'AH0', 'N', 'S'): ['absence'], ('AH0', 'K', 'AE1', 'D', 'AH0', 'M', 'IY0'): ['academy'], ('AE0', 'K', 'T', 'IH1', 'V', 'AH0', 'T', 'IY0'): ['activity'], ('AE0', 'D', 'V', 'AE1', 'N', 'T', 'IH0', 'JH'): ['advantage'], ('AE0', 'D', 'V', 'EH1', 'N', 'CH', 'ER0'): ['adventure'], ('AE2', 'F', 'T', 'ER0', 'N', 'UW1', 'N'): ['afternoon'], ('AH0', 'G', 'R', 'IY1', 'M', 'AH0', 'N', 'T'): ['agreement'], ('AO0', 'L', 'T', 'ER1', 'N', 'AH0', 'T', 'IH0', 'V'): ['alternative'], ('AH0', 'N', 'AW1', 'N', 'S', 'M', 'AH0', 'N', 'T'): ['announcement'], ('AH0', 'P', 'AA1', 'R', 'T', 'M', 'AH0', 'N', 'T'): ['apartment'], ('AE2', 'P', 'L', 'AH0', 'K', 'EY1', 'SH', 'AH0', 'N'): ['application'], ('AA1', 'R', 'K', 'AH0', 'T', 'EH2', 'K', 'CH', 'ER0'): ['architecture'], ('AH0', 'S', 'AY1', 'N', 'M', 'AH0', 'N', 'T'): ['assignment'], ('AH0', 'S', 'IH1', 'S', 'T', 'AH0', 'N', 'S'): ['assistance'], ('AE1', 'T', 'M', 'AH0', 'S', 'F', 'IH2', 'R'): ['atmosphere'], ('AH0', 'T', 'EH1', 'N', 'SH', 'AH0', 'N'): ['attention'], ('AH0', 'W', 'EH1', 'R', 'N', 'AH0', 'S'): ['awareness'], ('B', 'AE1', 'K', 'G', 'R', 'AW2', 'N', 'D'): ['background'], ('B', 'AE1', 'S', 'K', 'AH0', 'T', 'B', 'AO2', 'L'): ['basketball'], ('B', 'IH2', 'L', 'Y', 'AH0', 'N', 'EH1', 'R'): ['billionaire'], ('B', 'AY0', 'AA1', 'G', 'R', 'AH0', 'F', 'IY0'): ['biography'], ('B', 'AW1', 'N', 'D', 'ER0', 'IY0'): ['boundary'], ('B', 'R', 'EH1', 'K', 'F', 'AH0', 'S', 'T'): ['breakfast'], ('B', 'R', 'IH1', 'L', 'Y', 'AH0', 'N', 'T'): ['brilliant'], ('B', 'R', 'AO1', 'D', 'K', 'AE2', 'S', 'T'): ['broadcast'], ('B', 'R', 'AH1', 'DH', 'ER0', 'HH', 'UH2', 'D'): ['brotherhood'], ('K', 'AE1', 'L', 'K', 'Y', 'AH0', 'L', 'EY2', 'T', 'ER0'): ['calculator'], ('S', 'EH2', 'L', 'AH0', 'B', 'R', 'EY1', 'SH', 'AH0', 'N'): ['celebration'], ('K', 'EH2', 'R', 'AH0', 'K', 'T', 'ER0', 'IH1', 'S', 'T', 'IH0', 'K'): ['characteristic'], ('K', 'EH1', 'M', 'AH0', 'S', 'T', 'R', 'IY0'): ['chemistry'], ('CH', 'AO1', 'K', 'L', 'AH0', 'T'): ['chocolate'], ('S', 'IH2', 'V', 'AH0', 'L', 'IH0', 'Z', 'EY1', 'SH', 'AH0', 'N'): ['civilization'], ('K', 'AH0', 'L', 'EH1', 'K', 'SH', 'AH0', 'N'): ['collection'], ('K', 'AH0', 'M', 'Y', 'UW2', 'N', 'AH0', 'K', 'EY1', 'SH', 'AH0', 'N'): ['communication'], ('K', 'AH0', 'M', 'P', 'EH1', 'R', 'AH0', 'S', 'AH0', 'N'): ['comparison'], ('K', 'AA2', 'M', 'P', 'AH0', 'T', 'IH1', 'SH', 'AH0', 'N'): ['competition'], ('K', 'AH0', 'M', 'Y', 'UW1', 'T', 'ER0'): ['commuter'], ('K', 'AA1', 'M', 'P', 'R', 'AH0', 'M', 'AY2', 'Z'): ['compromise'], ('K', 'AA2', 'N', 'S', 'AH0', 'N', 'T', 'R', 'EY1', 'SH', 'AH0', 'N'): ['concentration'], ('K', 'AH0', 'N', 'K', 'L', 'UW1', 'ZH', 'AH0', 'N'): ['conclusion'], ('K', 'AA1', 'N', 'F', 'AH0', 'D', 'AH0', 'N', 'S'): ['confidence'], ('K', 'AH0', 'N', 'EH1', 'K', 'SH', 'AH0', 'N'): ['connection'], ('K', 'AA1', 'N', 'S', 'AH0', 'K', 'W', 'AH0', 'N', 'S'): ['consequence'], ('K', 'AH0', 'N', 'S', 'IH2', 'D', 'ER0', 'EY1', 'SH', 'AH0', 'N'): ['consideration'], ('K', 'AA2', 'N', 'S', 'AH0', 'L', 'T', 'EY1', 'SH', 'AH0', 'N'): ['consultation'], ('K', 'AA2', 'N', 'T', 'R', 'AH0', 'B', 'Y', 'UW1', 'SH', 'AH0', 'N'): ['contribution'], ('K', 'OW0', 'AA2', 'P', 'ER0', 'EY1', 'SH', 'AH0', 'N'): ['cooperation'], ('K', 'OW0', 'AO2', 'R', 'D', 'AH0', 'N', 'EY1', 'SH', 'AH0', 'N'): ['coordination'], ('K', 'AO2', 'R', 'P', 'ER0', 'EY1', 'SH', 'AH0', 'N'): ['corporation'], ('D', 'EH2', 'K', 'L', 'ER0', 'EY1', 'SH', 'AH0', 'N'): ['declaration'], ('D', 'EH2', 'F', 'AH0', 'N', 'IH1', 'SH', 'AH0', 'N'): ['definition'], ('D', 'IH0', 'M', 'AA1', 'K', 'R', 'AH0', 'S', 'IY0'): ['democracy'], ('D', 'IH0', 'P', 'R', 'EH1', 'SH', 'AH0', 'N'): ['depression'], ('D', 'IH0', 'S', 'K', 'R', 'IH1', 'P', 'SH', 'AH0', 'N'): ['description'], ('D', 'IH0', 'T', 'ER2', 'M', 'AH0', 'N', 'EY1', 'SH', 'AH0', 'N'): ['determination'], ('D', 'IH0', 'V', 'EH1', 'L', 'AH0', 'P', 'M', 'AH0', 'N', 'T'): ['development'], ('D', 'IH1', 'F', 'ER0', 'AH0', 'N', 'S'): ['difference'], ('D', 'IH1', 'F', 'AH0', 'K', 'AH0', 'L', 'T', 'IY0'): ['difficulty'], ('D', 'IH0', 'S', 'K', 'AH1', 'SH', 'AH0', 'N'): ['discussion'], ('D', 'IH2', 'S', 'T', 'R', 'AH0', 'B', 'Y', 'UW1', 'SH', 'AH0', 'N'): ['distribution'], ('D', 'IH0', 'V', 'ER1', 'S', 'AH0', 'T', 'IY0'): ['diversity'], ('EH2', 'JH', 'AH0', 'K', 'EY1', 'SH', 'AH0', 'N'): ['education'], ('IH0', 'F', 'IH1', 'SH', 'AH0', 'N', 'S', 'IY0'): ['efficiency'], ('EH1', 'N', 'JH', 'AH0', 'N', 'IH1', 'R', 'IH0', 'NG'): ['engineering'], ('IH0', 'N', 'V', 'AY1', 'R', 'AH0', 'N', 'M', 'AH0', 'N', 'T'): ['environment'], ('IH0', 'V', 'AE2', 'L', 'Y', 'UW0', 'EY1', 'SH', 'AH0', 'N'): ['evaluation'], ('IH0', 'G', 'Z', 'AE2', 'M', 'AH0', 'N', 'EY1', 'SH', 'AH0', 'N'): ['examination'], ('EH2', 'K', 'S', 'P', 'EH0', 'K', 'T', 'EY1', 'SH', 'AH0', 'N'): ['expectation'], ('IH0', 'K', 'S', 'P', 'IH1', 'R', 'IY0', 'AH0', 'N', 'S'): ['experience'], ('EH2', 'K', 'S', 'P', 'L', 'AH0', 'N', 'EY1', 'SH', 'AH0', 'N'): ['explanation'], ('IH0', 'K', 'S', 'P', 'R', 'EH1', 'SH', 'AH0', 'N'): ['expression'], ('F', 'AE2', 'S', 'AH0', 'N', 'EY1', 'SH', 'AH0', 'N'): ['fascination'], ('F', 'AW0', 'N', 'D', 'EY1', 'SH', 'AH0', 'N'): ['foundation'], ('F', 'R', 'EH1', 'N', 'D', 'SH', 'IH0', 'P'): ['friendship'], ('G', 'AH1', 'V', 'ER0', 'M', 'AH0', 'N', 'T'): ['government'], ('G', 'R', 'AE2', 'JH', 'UW0', 'EY1', 'SH', 'AH0', 'N'): ['graduation'], ('HH', 'AE1', 'P', 'IY0', 'N', 'AH0', 'S'): ['happiness'], ('HH', 'EH1', 'R', 'AH0', 'T', 'AH0', 'JH'): ['heritage'], ('HH', 'AA2', 'S', 'P', 'AH0', 'T', 'AE1', 'L', 'AH0', 'T', 'IY0'): ['hospitality'], ('IH0', 'M', 'AE2', 'JH', 'AH0', 'N', 'EY1', 'SH', 'AH0', 'N'): ['imagination'], ('IH0', 'M', 'P', 'R', 'EH1', 'SH', 'AH0', 'N'): ['impression'], ('IH0', 'M', 'P', 'R', 'UW1', 'V', 'M', 'AH0', 'N', 'T'): ['improvement'], ('IH2', 'N', 'D', 'IH0', 'P', 'EH1', 'N', 'D', 'AH0', 'N', 'S'): ['independence'], ('IH2', 'N', 'F', 'ER0', 'M', 'EY1', 'SH', 'AH0', 'N'): ['information'], ('IH2', 'N', 'S', 'P', 'ER0', 'EY1', 'SH', 'AH0', 'N'): ['inspiration'], ('IH0', 'N', 'S', 'T', 'R', 'AH1', 'K', 'SH', 'AH0', 'N'): ['instruction'], ('IH0', 'N', 'T', 'EH1', 'L', 'AH0', 'JH', 'AH0', 'N', 'S'): ['intelligence'], ('IH0', 'N', 'T', 'ER2', 'P', 'R', 'IH0', 'T', 'EY1', 'SH', 'AH0', 'N'): ['interpretation'], ('IH2', 'N', 'T', 'R', 'AH0', 'D', 'AH1', 'K', 'SH', 'AH0', 'N'): ['introduction'], ('IH0', 'N', 'V', 'EH2', 'S', 'T', 'AH0', 'G', 'EY1', 'SH', 'AH0', 'N'): ['investigation'], ('L', 'IY1', 'D', 'ER0', 'SH', 'IH2', 'P'): ['leadership'], ('L', 'IH1', 'T', 'ER0', 'AH0', 'CH', 'ER0'): ['literature'], ('M', 'AE2', 'TH', 'AH0', 'M', 'AE1', 'T', 'IH0', 'K', 'S'): ['mathematics'], ('M', 'EH1', 'ZH', 'ER0', 'M', 'AH0', 'N', 'T'): ['measurement'], ('M', 'EH1', 'M', 'B', 'ER0', 'SH', 'IH2', 'P'): ['membership'], ('M', 'OW2', 'T', 'AH0', 'V', 'EY1', 'SH', 'AH0', 'N'): ['motivation'], ('N', 'IH0', 'G', 'OW2', 'SH', 'IY0', 'EY1', 'SH', 'AH0', 'N'): ['negotiation'], ('AA2', 'B', 'Z', 'ER0', 'V', 'EY1', 'SH', 'AH0', 'N'): ['observation'], ('AA2', 'P', 'ER0', 'T', 'UW1', 'N', 'AH0', 'T', 'IY0'): ['opportunity'], ('AO2', 'R', 'G', 'AH0', 'N', 'AH0', 'Z', 'EY1', 'SH', 'AH0', 'N'): ['organization'], ('P', 'AA0', 'R', 'T', 'IH2', 'S', 'AH0', 'P', 'EY1', 'SH', 'AH0', 'N'): ['participation'], ('P', 'ER0', 'F', 'AO1', 'R', 'M', 'AH0', 'N', 'S'): ['performance'], ('F', 'AH0', 'L', 'AA1', 'S', 'AH0', 'F', 'IY0'): ['philosophy'], ('F', 'AH0', 'T', 'AA1', 'G', 'R', 'AH0', 'F', 'IY0'): ['photography'], ('P', 'AH0', 'Z', 'EH1', 'SH', 'AH0', 'N'): ['possession'], ('P', 'R', 'EH2', 'P', 'ER0', 'EY1', 'SH', 'AH0', 'N'): ['preparation'], ('P', 'R', 'EH2', 'Z', 'AH0', 'N', 'T', 'EY1', 'SH', 'AH0', 'N'): ['presentation'], ('P', 'R', 'EH2', 'Z', 'ER0', 'V', 'EY1', 'SH', 'AH0', 'N'): ['preservation'], ('P', 'R', 'AA2', 'B', 'AH0', 'B', 'IH1', 'L', 'AH0', 'T', 'IY0'): ['probability'], ('P', 'R', 'AH0', 'D', 'AH1', 'K', 'SH', 'AH0', 'N'): ['production'], ('P', 'R', 'AH0', 'G', 'R', 'EH1', 'SH', 'AH0', 'N'): ['progression'], ('P', 'R', 'AH0', 'JH', 'EH1', 'K', 'SH', 'AH0', 'N'): ['projection'], ('P', 'R', 'AH0', 'M', 'OW1', 'SH', 'AH0', 'N'): ['promotion'], ('P', 'R', 'AA2', 'P', 'AH0', 'Z', 'IH1', 'SH', 'AH0', 'N'): ['proposition'], ('S', 'AY0', 'K', 'AA1', 'L', 'AH0', 'JH', 'IY0'): ['psychology'], ('K', 'W', 'AA2', 'L', 'AH0', 'F', 'AH0', 'K', 'EY1', 'SH', 'AH0', 'N'): ['qualification'], ('R', 'IY1', 'L', 'AH0', 'Z', 'EY1', 'SH', 'AH0', 'N'): ['realization'], ('R', 'EH2', 'K', 'AH0', 'G', 'N', 'IH1', 'SH', 'AH0', 'N'): ['recognition'], ('R', 'EH2', 'K', 'AH0', 'M', 'AH0', 'N', 'D', 'EY1', 'SH', 'AH0', 'N'): ['recommendation'], ('R', 'EH2', 'K', 'R', 'IY0', 'EY1', 'SH', 'AH0', 'N'): ['recreation'], ('R', 'AH0', 'F', 'L', 'EH1', 'K', 'SH', 'AH0', 'N'): ['reflection'], ('R', 'EH2', 'F', 'ER0', 'M', 'EY1', 'SH', 'AH0', 'N'): ['reformation'], ('R', 'IY0', 'L', 'EY1', 'SH', 'AH0', 'N', 'SH', 'IH2', 'P'): ['relationship'], ('R', 'EH2', 'P', 'R', 'AH0', 'Z', 'EH0', 'N', 'T', 'EY1', 'SH', 'AH0', 'N'): ['representation'], ('R', 'EH2', 'P', 'Y', 'AH0', 'T', 'EY1', 'SH', 'AH0', 'N'): ['reputation'], ('R', 'EH2', 'Z', 'ER0', 'V', 'EY1', 'SH', 'AH0', 'N'): ['reservation'], ('R', 'IH0', 'Z', 'IH1', 'S', 'T', 'AH0', 'N', 'S'): ['resistance'], ('R', 'EH2', 'Z', 'AH0', 'L', 'UW1', 'SH', 'AH0', 'N'): ['resolution'], ('R', 'EH1', 'S', 'T', 'ER0', 'AA2', 'N', 'T'): ['restaurant'], ('R', 'EH2', 'V', 'AH0', 'L', 'EY1', 'SH', 'AH0', 'N'): ['revelation'], ('R', 'EH2', 'V', 'AH0', 'L', 'UW1', 'SH', 'AH0', 'N'): ['revolution'], ('S', 'AE2', 'T', 'AH0', 'S', 'F', 'AE1', 'K', 'SH', 'AH0', 'N'): ['satisfaction'], ('S', 'K', 'AA1', 'L', 'ER0', 'SH', 'IH2', 'P'): ['scholarship'], ('S', 'AH0', 'G', 'N', 'IH1', 'F', 'IH0', 'K', 'AH0', 'N', 'S'): ['significance'], ('S', 'P', 'EH2', 'S', 'IH0', 'F', 'IH0', 'K', 'EY1', 'SH', 'AH0', 'N'): ['specification'], ('S', 'P', 'EH2', 'K', 'Y', 'AH0', 'L', 'EY1', 'SH', 'AH0', 'N'): ['speculation'], ('S', 'T', 'AH0', 'T', 'IH1', 'S', 'T', 'IH0', 'K', 'S'): ['statistics'], ('S', 'T', 'IH2', 'M', 'Y', 'AH0', 'L', 'EY1', 'SH', 'AH0', 'N'): ['stimulation'], ('S', 'T', 'R', 'EH1', 'NG', 'TH', 'AH0', 'N'): ['strengthen'], ('S', 'T', 'R', 'AH1', 'K', 'CH', 'ER0'): ['structure'], ('S', 'AH0', 'B', 'M', 'IH1', 'SH', 'AH0', 'N'): ['submission'], ('S', 'AH2', 'B', 'S', 'T', 'IH0', 'T', 'UW1', 'SH', 'AH0', 'N'): ['substitution'], ('S', 'AH0', 'K', 'S', 'EH1', 'SH', 'AH0', 'N'): ['succession'], ('S', 'AH0', 'G', 'JH', 'EH1', 'S', 'CH', 'AH0', 'N'): ['suggestion'], ('S', 'UW2', 'P', 'ER0', 'AH0', 'N', 'T', 'EH1', 'N', 'D', 'AH0', 'N', 'T'): ['superintendent'], ('S', 'UW2', 'P', 'ER0', 'V', 'IH1', 'ZH', 'AH0', 'N'): ['supervision'], ('T', 'EH0', 'K', 'N', 'AA1', 'L', 'AH0', 'JH', 'IY0'): ['technology'], ('T', 'EH1', 'M', 'P', 'R', 'AH0', 'CH', 'ER0'): ['temperature'], ('T', 'R', 'AE2', 'N', 'S', 'P', 'ER0', 'T', 'EY1', 'SH', 'AH0', 'N'): ['transportation'], ('AH2', 'N', 'D', 'ER0', 'S', 'T', 'AE1', 'N', 'D', 'IH0', 'NG'): ['understanding'], ('Y', 'UW2', 'N', 'AH0', 'V', 'ER1', 'S', 'AH0', 'T', 'IY0'): ['university'], ('V', 'IH2', 'ZH', 'W', 'AH0', 'L', 'AH0', 'Z', 'EY1', 'SH', 'AH0', 'N'): ['visualization']})\n"
          ]
        }
      ]
    },
    {
      "cell_type": "code",
      "source": [
        "import torch.nn.functional as F\n",
        "def batch_eval(model, word1, word_list):\n",
        "  similar_words = []\n",
        "  similar_real_words = []\n",
        "  batch_size = 128\n",
        "  word1_encoded = one_hot_encode(word1, phoneme_to_index)\n",
        "  word1_encoded_batch = torch.stack([torch.tensor(word1_encoded, dtype=torch.float32).to(device)] * len(word_list))\n",
        "  word2_encoded_list = [one_hot_encode(word2, phoneme_to_index) for word2 in word_list]\n",
        "  max_length = max(len(word) for word in word2_encoded_list)\n",
        "  word2_encoded_batch = torch.stack([F.pad(torch.tensor(word2_encoded, dtype=torch.float32), (0, 0, 0, max_length - len(word2_encoded))).to(device) for word2_encoded in word2_encoded_list])\n",
        "\n",
        "  for i in range(0, len(word_list), batch_size):\n",
        "    batch_word1 = word1_encoded_batch[i:i+batch_size]\n",
        "    batch_word2 = word2_encoded_batch[i:i+batch_size]\n",
        "    with torch.no_grad():\n",
        "      output = model(batch_word1, batch_word2)\n",
        "      _, predicted = torch.max(output.data, 1)\n",
        "      similar_indices = (predicted == 1).nonzero(as_tuple=True)[0]\n",
        "      similar_words.extend([word_list[i + index.item()] for index in similar_indices])\n",
        "  for word in similar_words:\n",
        "    similar_real_words.append(word_dict[tuple(word)])\n",
        "  print(f\"'{word_1}' is phonetically similar to the following words: {similar_real_words}\")\n",
        "\n",
        "start_time = time.time()\n",
        "batch_eval(model, word1, word_list)\n",
        "print(\"--- %s seconds ---\" % (time.time() - start_time))\n"
      ],
      "metadata": {
        "colab": {
          "base_uri": "https://localhost:8080/"
        },
        "id": "Lbevri041zoe",
        "outputId": "2d8ca2ae-8f84-42bf-cc3d-39b2c97bb0b0"
      },
      "execution_count": null,
      "outputs": [
        {
          "output_type": "stream",
          "name": "stdout",
          "text": [
            "'lot' is phonetically similar to the following words: []\n",
            "--- 0.017380714416503906 seconds ---\n"
          ]
        }
      ]
    },
    {
      "cell_type": "code",
      "source": [],
      "metadata": {
        "id": "idJhycxh2wpN"
      },
      "execution_count": null,
      "outputs": []
    }
  ]
}